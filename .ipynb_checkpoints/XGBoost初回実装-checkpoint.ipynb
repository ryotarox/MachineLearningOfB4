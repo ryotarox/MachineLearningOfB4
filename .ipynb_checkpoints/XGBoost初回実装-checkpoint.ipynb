{
 "cells": [
  {
   "cell_type": "code",
   "execution_count": 5,
   "id": "d291fd58",
   "metadata": {},
   "outputs": [],
   "source": [
    "import pandas as pd\n",
    "import numpy as np\n",
    "import xgboost as xgb\n",
    "from sklearn.metrics import mean_squared_error\n",
    "from sklearn.metrics import mean_absolute_error\n",
    "from sklearn.metrics import r2_score\n",
    "from sklearn.model_selection import train_test_split\n",
    "from sklearn.model_selection import cross_val_score, KFold\n",
    "\n"
   ]
  },
  {
   "cell_type": "code",
   "execution_count": 6,
   "id": "2d9c9a85",
   "metadata": {},
   "outputs": [],
   "source": [
    "from sklearn.model_selection import train_test_split\n",
    "import category_encoders as ce\n",
    "import matplotlib.pyplot as plt\n",
    "import seaborn as sns\n",
    "import warnings\n",
    "warnings.filterwarnings('ignore')\n",
    "\n",
    "from sklearn.ensemble import RandomForestRegressor\n",
    "\n",
    "import math\n",
    "from statistics import mean\n",
    "from datetime import timedelta\n",
    "from sklearn.metrics import mean_squared_error\n",
    "\n",
    "\n",
    "#from sklearn import preprocessing\n",
    "from sklearn.preprocessing import MinMaxScaler\n",
    "from tensorflow.keras.models import Sequential\n",
    "from tensorflow.keras.layers import Dense,Dropout\n",
    "from tensorflow.keras.layers import LSTM\n",
    "from tensorflow.keras.optimizers import Adam\n",
    "\n",
    "from datetime import date\n",
    "import datetime\n",
    "import holidays"
   ]
  },
  {
   "cell_type": "code",
   "execution_count": 2,
   "id": "8a80ce1e",
   "metadata": {},
   "outputs": [
    {
     "name": "stdout",
     "output_type": "stream",
     "text": [
      "Requirement already satisfied: pip in c:\\users\\pytho\\anaconda3\\envs\\py-test\\lib\\site-packages (21.0.1)\n",
      "Collecting pip\n",
      "  Downloading pip-21.3.1-py3-none-any.whl (1.7 MB)\n",
      "Installing collected packages: pip\n",
      "  Attempting uninstall: pip\n",
      "    Found existing installation: pip 21.0.1\n",
      "    Uninstalling pip-21.0.1:\n",
      "      Successfully uninstalled pip-21.0.1\n",
      "Successfully installed pip-21.3.1\n",
      "Note: you may need to restart the kernel to use updated packages.\n"
     ]
    }
   ],
   "source": [
    "pip install --upgrade pip"
   ]
  },
  {
   "cell_type": "code",
   "execution_count": 3,
   "id": "899586a7",
   "metadata": {},
   "outputs": [
    {
     "name": "stdout",
     "output_type": "stream",
     "text": [
      "Collecting xgboost\n",
      "  Downloading xgboost-1.5.1-py3-none-win_amd64.whl (106.6 MB)\n",
      "Requirement already satisfied: numpy in c:\\users\\pytho\\anaconda3\\envs\\py-test\\lib\\site-packages (from xgboost) (1.19.5)\n",
      "Requirement already satisfied: scipy in c:\\users\\pytho\\anaconda3\\envs\\py-test\\lib\\site-packages (from xgboost) (1.6.2)\n",
      "Installing collected packages: xgboost\n",
      "Successfully installed xgboost-1.5.1\n",
      "Note: you may need to restart the kernel to use updated packages.\n"
     ]
    }
   ],
   "source": [
    "pip install xgboost"
   ]
  },
  {
   "cell_type": "code",
   "execution_count": 7,
   "id": "01cfc9dc",
   "metadata": {},
   "outputs": [],
   "source": [
    "status = pd.read_csv('../../../status.csv')"
   ]
  },
  {
   "cell_type": "code",
   "execution_count": 8,
   "id": "7fbbf60f",
   "metadata": {},
   "outputs": [],
   "source": [
    "#statusのyear, month, dayを結合してdatetime型に\n",
    "status['date'] = status['year'].astype(str) + '/' + status['month'].astype(str).str.zfill(2).astype(str) + '/' + status['day'].astype(str).str.zfill(2).astype(str) + '/' + status['hour'].astype(str).str.zfill(2).astype(str)\n",
    "status['date'] = pd.to_datetime(status['date'], format='%Y/%m/%d/%H', infer_datetime_format=True)\n",
    "\n",
    "#曜日を追加するための関数を定義\n",
    "def get_weekday_jp(dt):\n",
    "    w_list = ['月曜日', '火曜日', '水曜日', '木曜日', '金曜日', '土曜日', '日曜日']\n",
    "    return(w_list[dt.weekday()])\n",
    "\n",
    "#dateから曜日情報を取得\n",
    "status[\"weekday\"] = status[\"date\"].apply(get_weekday_jp)\n",
    "\n",
    "main_df = status[['date','hour', 'station_id', 'bikes_available', 'weekday', 'predict']]\n",
    "\n",
    "#カテゴリ変数をダミー変数化\n",
    "main_df = pd.get_dummies(main_df)\n",
    "\n",
    "train = main_df[main_df['date'] >= '2013-10-01']\n",
    "train = train[train['date'] < '2013-11-01']\n",
    "train = train[train['station_id'] == 0] \n",
    "\n",
    "test = main_df[main_df['date'] >= '2013-11-01']\n",
    "test = test[test['date'] < '2013-11-08']\n",
    "test = test[test['station_id'] == 0] \n",
    "\n",
    "#predictは特徴量として必要ないため、削除\n",
    "train = train.drop(\"predict\",axis=1)\n",
    "train_df = train \n",
    "\n",
    "\n",
    "#predictは特徴量として必要ないため、削除\n",
    "train_week_X  = train.drop(\"station_id\",axis=1)\n",
    "train_week_X = train_week_X.drop(\"date\",axis=1)\n",
    "\n",
    "train_week_X = train_week_X.drop('bikes_available', axis = 1)\n",
    "train_week_y = train['bikes_available']"
   ]
  },
  {
   "cell_type": "code",
   "execution_count": 9,
   "id": "638eb67b",
   "metadata": {},
   "outputs": [
    {
     "data": {
      "text/plain": [
       "XGBRegressor(base_score=0.5, booster='gbtree', colsample_bylevel=1,\n",
       "             colsample_bynode=1, colsample_bytree=1, enable_categorical=False,\n",
       "             gamma=0, gpu_id=-1, importance_type=None,\n",
       "             interaction_constraints='', learning_rate=0.1, max_delta_step=0,\n",
       "             max_depth=5, min_child_weight=1, missing=nan,\n",
       "             monotone_constraints='()', n_estimators=1000, n_jobs=6,\n",
       "             num_parallel_tree=1, predictor='auto', random_state=0, reg_alpha=0,\n",
       "             reg_lambda=1, scale_pos_weight=1, subsample=0.5,\n",
       "             tree_method='exact', validate_parameters=1, verbosity=None)"
      ]
     },
     "execution_count": 9,
     "metadata": {},
     "output_type": "execute_result"
    }
   ],
   "source": [
    "reg_mod = xgb.XGBRegressor(objective='reg:squarederror',\n",
    "    n_estimators=1000,\n",
    "    learning_rate=0.10,\n",
    "    subsample=0.5,\n",
    "    colsample_bytree=1, \n",
    "    max_depth=5,\n",
    ")\n",
    "reg_mod.fit(train_week_X, train_week_y)"
   ]
  },
  {
   "cell_type": "code",
   "execution_count": 10,
   "id": "0f58c8f2",
   "metadata": {},
   "outputs": [
    {
     "ename": "SyntaxError",
     "evalue": "unmatched ')' (<ipython-input-10-988b83641093>, line 1)",
     "output_type": "error",
     "traceback": [
      "\u001b[1;36m  File \u001b[1;32m\"<ipython-input-10-988b83641093>\"\u001b[1;36m, line \u001b[1;32m1\u001b[0m\n\u001b[1;33m    predictions = reg_mod.predicttrain_week_X)\u001b[0m\n\u001b[1;37m                                             ^\u001b[0m\n\u001b[1;31mSyntaxError\u001b[0m\u001b[1;31m:\u001b[0m unmatched ')'\n"
     ]
    }
   ],
   "source": [
    "predictions = reg_mod.predicttrain_week_X)"
   ]
  },
  {
   "cell_type": "code",
   "execution_count": null,
   "id": "53ae835d",
   "metadata": {},
   "outputs": [],
   "source": []
  }
 ],
 "metadata": {
  "kernelspec": {
   "display_name": "Python 3",
   "language": "python",
   "name": "python3"
  },
  "language_info": {
   "codemirror_mode": {
    "name": "ipython",
    "version": 3
   },
   "file_extension": ".py",
   "mimetype": "text/x-python",
   "name": "python",
   "nbconvert_exporter": "python",
   "pygments_lexer": "ipython3",
   "version": "3.8.8"
  }
 },
 "nbformat": 4,
 "nbformat_minor": 5
}
