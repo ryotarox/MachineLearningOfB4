{
 "cells": [
  {
   "cell_type": "code",
   "execution_count": 3,
   "id": "121feb4c",
   "metadata": {},
   "outputs": [],
   "source": [
    "import pandas as pd\n",
    "import numpy as np\n",
    "import seaborn as sns\n",
    "from statsmodels import api as sm\n",
    "from pykalman import KalmanFilter\n",
    "from matplotlib import pyplot as plt\n",
    "from pandas.plotting import register_matplotlib_converters\n",
    "register_matplotlib_converters()"
   ]
  },
  {
   "cell_type": "code",
   "execution_count": 6,
   "id": "05d14f95",
   "metadata": {},
   "outputs": [],
   "source": [
    "from sklearn.model_selection import train_test_split\n",
    "import category_encoders as ce\n",
    "import matplotlib.pyplot as plt\n",
    "import seaborn as sns\n",
    "import math\n",
    "from statistics import mean\n",
    "from datetime import timedelta\n",
    "from sklearn.metrics import mean_squared_error\n",
    "\n",
    "\n",
    "from datetime import date\n",
    "import datetime\n",
    "import holidays"
   ]
  },
  {
   "cell_type": "code",
   "execution_count": 2,
   "id": "df428fa5",
   "metadata": {},
   "outputs": [
    {
     "name": "stdout",
     "output_type": "stream",
     "text": [
      "Collecting pykalman\n",
      "  Downloading pykalman-0.9.5.tar.gz (228 kB)\n",
      "  Preparing metadata (setup.py): started\n",
      "  Preparing metadata (setup.py): finished with status 'done'\n",
      "Building wheels for collected packages: pykalman\n",
      "  Building wheel for pykalman (setup.py): started\n",
      "  Building wheel for pykalman (setup.py): finished with status 'done'\n",
      "  Created wheel for pykalman: filename=pykalman-0.9.5-py3-none-any.whl size=48462 sha256=f0d44238fc26df702874c50a3fb15fd3c79d927ad94c1f0cbe3ca3e3c546037a\n",
      "  Stored in directory: c:\\users\\pytho\\appdata\\local\\pip\\cache\\wheels\\11\\16\\21\\615e29f0001ed6258b25d2a3a84ccfd65c5469b3505d4ab3ab\n",
      "Successfully built pykalman\n",
      "Installing collected packages: pykalman\n",
      "Successfully installed pykalman-0.9.5\n",
      "Note: you may need to restart the kernel to use updated packages.\n"
     ]
    }
   ],
   "source": [
    "pip install pykalman"
   ]
  },
  {
   "cell_type": "code",
   "execution_count": 4,
   "id": "dc7d1998",
   "metadata": {},
   "outputs": [],
   "source": [
    "status = pd.read_csv('../../../status.csv')"
   ]
  },
  {
   "cell_type": "code",
   "execution_count": 7,
   "id": "b8d197f3",
   "metadata": {},
   "outputs": [],
   "source": [
    "#statusのyear, month, dayを結合してdatetime型に\n",
    "status['date'] = status['year'].astype(str) + '/' + status['month'].astype(str).str.zfill(2).astype(str) + '/' + status['day'].astype(str).str.zfill(2).astype(str) + '/' + status['hour'].astype(str).str.zfill(2).astype(str)\n",
    "status['date'] = pd.to_datetime(status['date'], format='%Y/%m/%d/%H', infer_datetime_format=True)\n",
    "\n",
    "#曜日を追加するための関数を定義\n",
    "def get_weekday_jp(dt):\n",
    "    w_list = ['月曜日', '火曜日', '水曜日', '木曜日', '金曜日', '土曜日', '日曜日']\n",
    "    return(w_list[dt.weekday()])\n",
    "\n",
    "#dateから曜日情報を取得\n",
    "status[\"weekday\"] = status[\"date\"].apply(get_weekday_jp)\n",
    "\n",
    "main_df = status[['date','hour', 'station_id', 'bikes_available', 'weekday', 'predict']]\n",
    "\n",
    "#カテゴリ変数をダミー変数化\n",
    "main_df = pd.get_dummies(main_df)\n",
    "\n",
    "train = main_df[main_df['date'] >= '2013-10-01']\n",
    "train = train[train['date'] < '2013-11-01']\n",
    "train = train[train['station_id'] == 0] \n",
    "\n",
    "test = main_df[main_df['date'] >= '2013-11-01']\n",
    "test = test[test['date'] < '2013-11-08']\n",
    "test = test[test['station_id'] == 0] \n",
    "\n",
    "#predictは特徴量として必要ないため、削除\n",
    "train = train.drop(\"predict\",axis=1)\n",
    "train_df = train \n",
    "\n",
    "\n",
    "#predictは特徴量として必要ないため、削除\n",
    "train_week_X  = train.drop(\"station_id\",axis=1)\n",
    "train_week_X = train_week_X.drop(\"date\",axis=1)\n",
    "\n",
    "train_week_X = train_week_X.drop('bikes_available', axis = 1)\n",
    "train_week_y = train['bikes_available']"
   ]
  },
  {
   "cell_type": "code",
   "execution_count": 8,
   "id": "94340ab5",
   "metadata": {},
   "outputs": [],
   "source": [
    "# 推移行列などの初期化\n",
    "def FGHset(n_dim_trend, n_dim_obs=1, n_dim_series=0, Q_sigma2=10):\n",
    "    n_dim_Q = (n_dim_trend!=0) + (n_dim_series!=0)\n",
    "    if n_dim_series>0:\n",
    "        n_dim_state = n_dim_trend + n_dim_series - 1\n",
    "    else:\n",
    "        n_dim_state = n_dim_trend\n",
    "    \n",
    "    # 行列の初期化\n",
    "    G = np.zeros((n_dim_state, n_dim_Q))\n",
    "    F = np.zeros((n_dim_state, n_dim_state))\n",
    "    H = np.zeros((n_dim_obs, n_dim_state))\n",
    "    Q = np.eye(n_dim_Q) * Q_sigma2\n",
    "  \n",
    "    # 各行列のトレンド成分に対するブロック行列を構築\n",
    "    G[0,0] = 1\n",
    "    H[0,0] = 1\n",
    "    \n",
    "    # トレンドモデルの推移行列の構築\n",
    "    # 非定常過程でも対応できる推移行列を構築 \n",
    "    if n_dim_trend==1: \n",
    "        F[0,0] = 1\n",
    "    elif n_dim_trend==2:\n",
    "        F[0,0] = 2\n",
    "        F[0,1] = -1\n",
    "        F[1,0] = 1\n",
    "    elif n_dim_trend==3:\n",
    "        F[0,0] = 3\n",
    "        F[0,1] = -3\n",
    "        F[0,2] = 1\n",
    "        F[1,0] = 1\n",
    "        F[2,1] = 1\n",
    "        \n",
    "    # PyKalmanのQはG.dot(Q).dot(G.T)を想定しているためQをupdate\n",
    "    Q = G.dot(Q).dot(G.T)\n",
    "    \n",
    "    return n_dim_state, F, H, Q"
   ]
  },
  {
   "cell_type": "code",
   "execution_count": 9,
   "id": "26341403",
   "metadata": {},
   "outputs": [],
   "source": [
    "# 観測値の次元数\n",
    "n_dim_obs = 1\n",
    "# トレンドの次元数\n",
    "n_dim_trend = 2\n",
    "\n",
    "# 推移行列などの定義\n",
    "n_dim_state, F, H, Q = FGHset(n_dim_trend, n_dim_obs)"
   ]
  },
  {
   "cell_type": "code",
   "execution_count": 10,
   "id": "82c01e10",
   "metadata": {},
   "outputs": [],
   "source": [
    "# 状態の平均値ベクトルの初期値\n",
    "initial_state_mean = np.zeros(n_dim_state)\n",
    "# 状態の分散共分散行列の初期値\n",
    "initial_state_covariance = np.ones((n_dim_state, n_dim_state))\n",
    "\n",
    "# カルマンフィルタのモデル生成\n",
    "kf = KalmanFilter(\n",
    "    # l：観測値の次元数\n",
    "    n_dim_obs=n_dim_obs,\n",
    "    # k：状態の次元数\n",
    "    n_dim_state=n_dim_state,\n",
    "    # x_0：状態の平均値ベクトルの初期値（k次元）\n",
    "    initial_state_mean=initial_state_mean,\n",
    "    # V_0：状態の分散共分散行列の初期値（k×k次元）\n",
    "    initial_state_covariance=initial_state_covariance,\n",
    "    # F：推移行列（k×k次元）\n",
    "    transition_matrices=F,\n",
    "    # H：観測行列（l×k次元）\n",
    "    observation_matrices=H,\n",
    "    # R：観測ノイズwの分散共分散行列（l×l次元。観測値が一次元の場合はスカラ）\n",
    "    observation_covariance=1.0,\n",
    "    # Q：システムノイズvの分散共分散行列（m×m次元）\n",
    "    transition_covariance=Q)"
   ]
  },
  {
   "cell_type": "code",
   "execution_count": 11,
   "id": "65d49a0a",
   "metadata": {},
   "outputs": [
    {
     "ename": "TypeError",
     "evalue": "unsupported operand type(s) for -: 'Timestamp' and 'float'",
     "output_type": "error",
     "traceback": [
      "\u001b[1;31m---------------------------------------------------------------------------\u001b[0m",
      "\u001b[1;31mTypeError\u001b[0m                                 Traceback (most recent call last)",
      "\u001b[1;32m<ipython-input-11-65c8ed9882cb>\u001b[0m in \u001b[0;36m<module>\u001b[1;34m\u001b[0m\n\u001b[1;32m----> 1\u001b[1;33m \u001b[0msmoothed_state_means\u001b[0m\u001b[1;33m,\u001b[0m \u001b[0msmoothed_state_covs\u001b[0m \u001b[1;33m=\u001b[0m \u001b[0mkf\u001b[0m\u001b[1;33m.\u001b[0m\u001b[0msmooth\u001b[0m\u001b[1;33m(\u001b[0m\u001b[0mtrain\u001b[0m\u001b[1;33m)\u001b[0m\u001b[1;33m\u001b[0m\u001b[1;33m\u001b[0m\u001b[0m\n\u001b[0m\u001b[0;32m      2\u001b[0m \u001b[0mpred_o_smoothed\u001b[0m \u001b[1;33m=\u001b[0m \u001b[0msmoothed_state_means\u001b[0m\u001b[1;33m.\u001b[0m\u001b[0mdot\u001b[0m\u001b[1;33m(\u001b[0m\u001b[0mH\u001b[0m\u001b[1;33m.\u001b[0m\u001b[0mT\u001b[0m\u001b[1;33m)\u001b[0m\u001b[1;33m\u001b[0m\u001b[1;33m\u001b[0m\u001b[0m\n",
      "\u001b[1;32m~\\anaconda3\\envs\\py-test\\lib\\site-packages\\pykalman\\standard.py\u001b[0m in \u001b[0;36msmooth\u001b[1;34m(self, X)\u001b[0m\n\u001b[0;32m   1321\u001b[0m         (predicted_state_means, predicted_state_covariances,\n\u001b[0;32m   1322\u001b[0m          \u001b[0m_\u001b[0m\u001b[1;33m,\u001b[0m \u001b[0mfiltered_state_means\u001b[0m\u001b[1;33m,\u001b[0m \u001b[0mfiltered_state_covariances\u001b[0m\u001b[1;33m)\u001b[0m \u001b[1;33m=\u001b[0m \u001b[1;33m(\u001b[0m\u001b[1;33m\u001b[0m\u001b[1;33m\u001b[0m\u001b[0m\n\u001b[1;32m-> 1323\u001b[1;33m             _filter(\n\u001b[0m\u001b[0;32m   1324\u001b[0m                 \u001b[0mtransition_matrices\u001b[0m\u001b[1;33m,\u001b[0m \u001b[0mobservation_matrices\u001b[0m\u001b[1;33m,\u001b[0m\u001b[1;33m\u001b[0m\u001b[1;33m\u001b[0m\u001b[0m\n\u001b[0;32m   1325\u001b[0m                 \u001b[0mtransition_covariance\u001b[0m\u001b[1;33m,\u001b[0m \u001b[0mobservation_covariance\u001b[0m\u001b[1;33m,\u001b[0m\u001b[1;33m\u001b[0m\u001b[1;33m\u001b[0m\u001b[0m\n",
      "\u001b[1;32m~\\anaconda3\\envs\\py-test\\lib\\site-packages\\pykalman\\standard.py\u001b[0m in \u001b[0;36m_filter\u001b[1;34m(transition_matrices, observation_matrices, transition_covariance, observation_covariance, transition_offsets, observation_offsets, initial_state_mean, initial_state_covariance, observations)\u001b[0m\n\u001b[0;32m    386\u001b[0m         (kalman_gains[t], filtered_state_means[t],\n\u001b[0;32m    387\u001b[0m          \u001b[0mfiltered_state_covariances\u001b[0m\u001b[1;33m[\u001b[0m\u001b[0mt\u001b[0m\u001b[1;33m]\u001b[0m\u001b[1;33m)\u001b[0m \u001b[1;33m=\u001b[0m \u001b[1;33m(\u001b[0m\u001b[1;33m\u001b[0m\u001b[1;33m\u001b[0m\u001b[0m\n\u001b[1;32m--> 388\u001b[1;33m             _filter_correct(observation_matrix,\n\u001b[0m\u001b[0;32m    389\u001b[0m                 \u001b[0mobservation_covariance\u001b[0m\u001b[1;33m,\u001b[0m\u001b[1;33m\u001b[0m\u001b[1;33m\u001b[0m\u001b[0m\n\u001b[0;32m    390\u001b[0m                 \u001b[0mobservation_offset\u001b[0m\u001b[1;33m,\u001b[0m\u001b[1;33m\u001b[0m\u001b[1;33m\u001b[0m\u001b[0m\n",
      "\u001b[1;32m~\\anaconda3\\envs\\py-test\\lib\\site-packages\\pykalman\\standard.py\u001b[0m in \u001b[0;36m_filter_correct\u001b[1;34m(observation_matrix, observation_covariance, observation_offset, predicted_state_mean, predicted_state_covariance, observation)\u001b[0m\n\u001b[0;32m    276\u001b[0m         corrected_state_mean = (\n\u001b[0;32m    277\u001b[0m             \u001b[0mpredicted_state_mean\u001b[0m\u001b[1;33m\u001b[0m\u001b[1;33m\u001b[0m\u001b[0m\n\u001b[1;32m--> 278\u001b[1;33m             \u001b[1;33m+\u001b[0m \u001b[0mnp\u001b[0m\u001b[1;33m.\u001b[0m\u001b[0mdot\u001b[0m\u001b[1;33m(\u001b[0m\u001b[0mkalman_gain\u001b[0m\u001b[1;33m,\u001b[0m \u001b[0mobservation\u001b[0m \u001b[1;33m-\u001b[0m \u001b[0mpredicted_observation_mean\u001b[0m\u001b[1;33m)\u001b[0m\u001b[1;33m\u001b[0m\u001b[1;33m\u001b[0m\u001b[0m\n\u001b[0m\u001b[0;32m    279\u001b[0m         )\n\u001b[0;32m    280\u001b[0m         corrected_state_covariance = (\n",
      "\u001b[1;32m~\\anaconda3\\envs\\py-test\\lib\\site-packages\\numpy\\ma\\core.py\u001b[0m in \u001b[0;36m__sub__\u001b[1;34m(self, other)\u001b[0m\n\u001b[0;32m   4154\u001b[0m         \u001b[1;32mif\u001b[0m \u001b[0mself\u001b[0m\u001b[1;33m.\u001b[0m\u001b[0m_delegate_binop\u001b[0m\u001b[1;33m(\u001b[0m\u001b[0mother\u001b[0m\u001b[1;33m)\u001b[0m\u001b[1;33m:\u001b[0m\u001b[1;33m\u001b[0m\u001b[1;33m\u001b[0m\u001b[0m\n\u001b[0;32m   4155\u001b[0m             \u001b[1;32mreturn\u001b[0m \u001b[0mNotImplemented\u001b[0m\u001b[1;33m\u001b[0m\u001b[1;33m\u001b[0m\u001b[0m\n\u001b[1;32m-> 4156\u001b[1;33m         \u001b[1;32mreturn\u001b[0m \u001b[0msubtract\u001b[0m\u001b[1;33m(\u001b[0m\u001b[0mself\u001b[0m\u001b[1;33m,\u001b[0m \u001b[0mother\u001b[0m\u001b[1;33m)\u001b[0m\u001b[1;33m\u001b[0m\u001b[1;33m\u001b[0m\u001b[0m\n\u001b[0m\u001b[0;32m   4157\u001b[0m \u001b[1;33m\u001b[0m\u001b[0m\n\u001b[0;32m   4158\u001b[0m     \u001b[1;32mdef\u001b[0m \u001b[0m__rsub__\u001b[0m\u001b[1;33m(\u001b[0m\u001b[0mself\u001b[0m\u001b[1;33m,\u001b[0m \u001b[0mother\u001b[0m\u001b[1;33m)\u001b[0m\u001b[1;33m:\u001b[0m\u001b[1;33m\u001b[0m\u001b[1;33m\u001b[0m\u001b[0m\n",
      "\u001b[1;32m~\\anaconda3\\envs\\py-test\\lib\\site-packages\\numpy\\ma\\core.py\u001b[0m in \u001b[0;36m__call__\u001b[1;34m(self, a, b, *args, **kwargs)\u001b[0m\n\u001b[0;32m   1019\u001b[0m         \u001b[1;32mwith\u001b[0m \u001b[0mnp\u001b[0m\u001b[1;33m.\u001b[0m\u001b[0merrstate\u001b[0m\u001b[1;33m(\u001b[0m\u001b[1;33m)\u001b[0m\u001b[1;33m:\u001b[0m\u001b[1;33m\u001b[0m\u001b[1;33m\u001b[0m\u001b[0m\n\u001b[0;32m   1020\u001b[0m             \u001b[0mnp\u001b[0m\u001b[1;33m.\u001b[0m\u001b[0mseterr\u001b[0m\u001b[1;33m(\u001b[0m\u001b[0mdivide\u001b[0m\u001b[1;33m=\u001b[0m\u001b[1;34m'ignore'\u001b[0m\u001b[1;33m,\u001b[0m \u001b[0minvalid\u001b[0m\u001b[1;33m=\u001b[0m\u001b[1;34m'ignore'\u001b[0m\u001b[1;33m)\u001b[0m\u001b[1;33m\u001b[0m\u001b[1;33m\u001b[0m\u001b[0m\n\u001b[1;32m-> 1021\u001b[1;33m             \u001b[0mresult\u001b[0m \u001b[1;33m=\u001b[0m \u001b[0mself\u001b[0m\u001b[1;33m.\u001b[0m\u001b[0mf\u001b[0m\u001b[1;33m(\u001b[0m\u001b[0mda\u001b[0m\u001b[1;33m,\u001b[0m \u001b[0mdb\u001b[0m\u001b[1;33m,\u001b[0m \u001b[1;33m*\u001b[0m\u001b[0margs\u001b[0m\u001b[1;33m,\u001b[0m \u001b[1;33m**\u001b[0m\u001b[0mkwargs\u001b[0m\u001b[1;33m)\u001b[0m\u001b[1;33m\u001b[0m\u001b[1;33m\u001b[0m\u001b[0m\n\u001b[0m\u001b[0;32m   1022\u001b[0m         \u001b[1;31m# Get the mask for the result\u001b[0m\u001b[1;33m\u001b[0m\u001b[1;33m\u001b[0m\u001b[1;33m\u001b[0m\u001b[0m\n\u001b[0;32m   1023\u001b[0m         \u001b[1;33m(\u001b[0m\u001b[0mma\u001b[0m\u001b[1;33m,\u001b[0m \u001b[0mmb\u001b[0m\u001b[1;33m)\u001b[0m \u001b[1;33m=\u001b[0m \u001b[1;33m(\u001b[0m\u001b[0mgetmask\u001b[0m\u001b[1;33m(\u001b[0m\u001b[0ma\u001b[0m\u001b[1;33m)\u001b[0m\u001b[1;33m,\u001b[0m \u001b[0mgetmask\u001b[0m\u001b[1;33m(\u001b[0m\u001b[0mb\u001b[0m\u001b[1;33m)\u001b[0m\u001b[1;33m)\u001b[0m\u001b[1;33m\u001b[0m\u001b[1;33m\u001b[0m\u001b[0m\n",
      "\u001b[1;31mTypeError\u001b[0m: unsupported operand type(s) for -: 'Timestamp' and 'float'"
     ]
    }
   ],
   "source": [
    "smoothed_state_means, smoothed_state_covs = kf.smooth(train)\n",
    "pred_o_smoothed = smoothed_state_means.dot(H.T)"
   ]
  },
  {
   "cell_type": "code",
   "execution_count": null,
   "id": "1a36eb58",
   "metadata": {},
   "outputs": [],
   "source": []
  }
 ],
 "metadata": {
  "kernelspec": {
   "display_name": "Python 3",
   "language": "python",
   "name": "python3"
  },
  "language_info": {
   "codemirror_mode": {
    "name": "ipython",
    "version": 3
   },
   "file_extension": ".py",
   "mimetype": "text/x-python",
   "name": "python",
   "nbconvert_exporter": "python",
   "pygments_lexer": "ipython3",
   "version": "3.8.8"
  }
 },
 "nbformat": 4,
 "nbformat_minor": 5
}
