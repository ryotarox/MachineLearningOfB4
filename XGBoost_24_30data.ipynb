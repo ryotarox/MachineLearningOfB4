{
 "cells": [
  {
   "cell_type": "code",
   "execution_count": 1,
   "id": "14b8042f",
   "metadata": {},
   "outputs": [],
   "source": [
    "import numpy as np\n",
    "import pandas as pd\n",
    "import warnings\n",
    "import datetime\n",
    "warnings.simplefilter('ignore')\n",
    "import math\n",
    "import time\n",
    "from statistics import mean\n",
    "import matplotlib.pyplot as plt\n",
    "import seaborn as sns\n",
    "from datetime import timedelta\n",
    "from sklearn.metrics import mean_squared_error\n",
    "\n",
    "\n",
    "#from sklearn import preprocessing\n",
    "from sklearn.preprocessing import MinMaxScaler\n",
    "from tensorflow.keras.models import Sequential\n",
    "from tensorflow.keras.layers import Dense,Dropout\n",
    "from tensorflow.keras.optimizers import Adam\n",
    "\n",
    "from sklearn.model_selection import train_test_split\n",
    "import category_encoders as ce\n",
    "\n",
    "import xgboost as xgb\n",
    "from sklearn.metrics import mean_absolute_error\n",
    "from sklearn.metrics import r2_score\n",
    "from sklearn.model_selection import train_test_split\n",
    "from sklearn.model_selection import cross_val_score, KFold"
   ]
  },
  {
   "cell_type": "code",
   "execution_count": 2,
   "id": "d7e1e440",
   "metadata": {},
   "outputs": [],
   "source": [
    "status = pd.read_csv('../../../status.csv')\n",
    "\n",
    "#statusのyear, month, dayを結合してdatetime型に\n",
    "status['date'] = status['year'].astype(str) + '/' + status['month'].astype(str).str.zfill(2).astype(str) + '/' + status['day'].astype(str).str.zfill(2).astype(str) + '/' + status['hour'].astype(str).str.zfill(2).astype(str)\n",
    "status['date'] = pd.to_datetime(status['date'], format='%Y/%m/%d/%H', infer_datetime_format=True)\n",
    "\n",
    "#曜日を追加するための関数を定義\n",
    "def get_weekday_jp(dt):\n",
    "    w_list = ['月曜日', '火曜日', '水曜日', '木曜日', '金曜日', '土曜日', '日曜日']\n",
    "    return(w_list[dt.weekday()])\n",
    "\n",
    "#dateから曜日情報を取得\n",
    "status[\"weekday\"] = status[\"date\"].apply(get_weekday_jp)\n",
    "\n",
    "main_df = status[['date','hour', 'station_id', 'bikes_available', 'weekday', 'day']]\n",
    "\n",
    "#カテゴリ変数をダミー変数化\n",
    "main_df = pd.get_dummies(main_df)"
   ]
  },
  {
   "cell_type": "code",
   "execution_count": 3,
   "id": "8375570e",
   "metadata": {},
   "outputs": [],
   "source": [
    "stationid_set = [0, 15, 32, 36, 38, 40, 43, 49, 54, 56] "
   ]
  },
  {
   "cell_type": "code",
   "execution_count": 6,
   "id": "fdde292a",
   "metadata": {},
   "outputs": [],
   "source": [
    "for station_id in stationid_set:\n",
    "    train_X = main_df[main_df['station_id'] == station_id]\n",
    "    train_lag = train_X[train_X['date'] < '2013-10-01']['bikes_available']\n",
    "    train_learn = train_X[train_X['date'] < '2013-10-01']\n",
    "    train_learn = train_learn[train_learn['date'] >= '2013-09-02']\n",
    "    \n",
    "    i = 1\n",
    "    while i < 25:\n",
    "        row_name = \"lag_\" + str(i) + \"hour\"\n",
    "        set = train_lag[24-i:720-i]\n",
    "        train_learn[row_name] = set.values\n",
    "        i += 1\n",
    "    i = 0    \n",
    "    \n",
    "    train_learn_y = train_learn[\"bikes_available\"]\n",
    "    train_learn_x = train_learn.drop(\"station_id\",axis=1)\n",
    "    train_learn_x = train_learn_x.drop(\"date\",axis=1)\n",
    "    train_learn_x = train_learn_x.drop(\"bikes_available\",axis=1)    \n",
    "\n",
    "    reg_mod = xgb.XGBRegressor(objective='reg:squarederror',\n",
    "        n_estimators=300,\n",
    "        learning_rate=0.10,\n",
    "        subsample=0.5,\n",
    "        colsample_bytree=1, \n",
    "        max_depth=15,\n",
    "    )\n",
    "    reg_mod.fit(train_learn_x, train_learn_y) \n",
    "    predictions = reg_mod.predict(train_learn_x)\n",
    "    train_learn['predict_24'] = predictions\n",
    "    train_file_name = \"xgb_24_predict/xgb_train_stationid\" + str(station_id) + \"_201309.csv\" \n",
    "    train_learn.to_csv(train_file_name)\n",
    "    \n",
    "    test_lag = main_df[main_df['station_id'] == station_id][main_df['date'] < '2013-10-01']\n",
    "    test_lag = test_lag[test_lag['date'] >= '2013-09-30']['bikes_available']     \n",
    "    test = main_df[main_df['station_id'] == station_id][main_df['date'] < '2013-10-08']\n",
    "    test = test[test['date'] >= '2013-10-01']\n",
    "    test_y = test[\"bikes_available\"]\n",
    "    test_x = test.drop(\"station_id\",axis=1)\n",
    "    test_x = test_x.drop(\"date\",axis=1)\n",
    "    test_x = test_x.drop(\"bikes_available\",axis=1)    \n",
    "\n",
    "    pred_lightgbm_test = []\n",
    "    len(pred_lightgbm_test)\n",
    "    i=0\n",
    "    while i < 168:\n",
    "        test_x_line = test_x[i:i+1]\n",
    "\n",
    "        lag = []\n",
    "        for j in pred_lightgbm_test:\n",
    "            lag.insert(0, j)\n",
    "\n",
    "        for k in range(24 - len(pred_lightgbm_test)):\n",
    "            lag.append(test_lag[23-k:24-k].values)\n",
    "        s = 1\n",
    "        while s < 25:\n",
    "            row_name = \"lag_\" + str(s) + \"hour\"\n",
    "            test_x_line[row_name] = lag[s-1]\n",
    "            s += 1\n",
    "\n",
    "        pred_lightgbm_test_lag_line = reg_mod.predict(test_x_line)\n",
    "        pred_lightgbm_test =np.append(pred_lightgbm_test, pred_lightgbm_test_lag_line)\n",
    "        i += 1\n",
    "\n",
    "    test['predict_24'] = pred_lightgbm_test\n",
    "    test_file_name = \"xgb_24_predict/xgb_test_stationid\" + str(station_id) + \"_201309.csv\" \n",
    "    test.to_csv(test_file_name)"
   ]
  },
  {
   "cell_type": "code",
   "execution_count": 7,
   "id": "3a9dd8b6",
   "metadata": {},
   "outputs": [],
   "source": [
    "for station_id in stationid_set:\n",
    "    train_X = main_df[main_df['station_id'] == station_id]\n",
    "    train_lag = train_X[train_X['date'] < '2014-02-01']\n",
    "    train_lag = train_lag[train_lag['date'] >= '2014-01-01']['bikes_available']\n",
    "    train_learn = train_X[train_X['date'] < '2014-02-01']\n",
    "    train_learn = train_learn[train_learn['date'] >= '2014-01-02']\n",
    "    \n",
    "    i = 1\n",
    "    while i < 25:\n",
    "        row_name = \"lag_\" + str(i) + \"hour\"\n",
    "        set = train_lag[24-i:744-i]\n",
    "        train_learn[row_name] = set.values\n",
    "        i += 1\n",
    "    i = 0    \n",
    "    \n",
    "    train_learn_y = train_learn[\"bikes_available\"]\n",
    "    train_learn_x = train_learn.drop(\"station_id\",axis=1)\n",
    "    train_learn_x = train_learn_x.drop(\"date\",axis=1)\n",
    "    train_learn_x = train_learn_x.drop(\"bikes_available\",axis=1)    \n",
    "\n",
    "    reg_mod = xgb.XGBRegressor(objective='reg:squarederror',\n",
    "        n_estimators=300,\n",
    "        learning_rate=0.10,\n",
    "        subsample=0.5,\n",
    "        colsample_bytree=1, \n",
    "        max_depth=15,\n",
    "    )\n",
    "    reg_mod.fit(train_learn_x, train_learn_y) \n",
    "    predictions = reg_mod.predict(train_learn_x)\n",
    "    train_learn['predict_24'] = predictions\n",
    "    train_file_name = \"xgb_24_predict/xgb_train_stationid\" + str(station_id) + \"_201401.csv\" \n",
    "    train_learn.to_csv(train_file_name)\n",
    "    \n",
    "    test_lag = main_df[main_df['station_id'] == station_id][main_df['date'] < '2014-02-01']\n",
    "    test_lag = test_lag[test_lag['date'] >= '2014-01-31']['bikes_available']     \n",
    "    test = main_df[main_df['station_id'] == station_id][main_df['date'] < '2014-02-08']\n",
    "    test = test[test['date'] >= '2014-02-01']\n",
    "    test_y = test[\"bikes_available\"]\n",
    "    test_x = test.drop(\"station_id\",axis=1)\n",
    "    test_x = test_x.drop(\"date\",axis=1)\n",
    "    test_x = test_x.drop(\"bikes_available\",axis=1)    \n",
    "\n",
    "    pred_lightgbm_test = []\n",
    "    len(pred_lightgbm_test)\n",
    "    i=0\n",
    "    while i < 168:\n",
    "        test_x_line = test_x[i:i+1]\n",
    "\n",
    "        lag = []\n",
    "        for j in pred_lightgbm_test:\n",
    "            lag.insert(0, j)\n",
    "\n",
    "        for k in range(24 - len(pred_lightgbm_test)):\n",
    "            lag.append(test_lag[23-k:24-k].values)\n",
    "        s = 1\n",
    "        while s < 25:\n",
    "            row_name = \"lag_\" + str(s) + \"hour\"\n",
    "            test_x_line[row_name] = lag[s-1]\n",
    "            s += 1\n",
    "\n",
    "        pred_lightgbm_test_lag_line = reg_mod.predict(test_x_line)\n",
    "        pred_lightgbm_test =np.append(pred_lightgbm_test, pred_lightgbm_test_lag_line)\n",
    "        i += 1\n",
    "\n",
    "    test['predict_24'] = pred_lightgbm_test\n",
    "    test_file_name = \"xgb_24_predict/xgb_test_stationid\" + str(station_id) + \"_201401.csv\" \n",
    "    test.to_csv(test_file_name)"
   ]
  },
  {
   "cell_type": "code",
   "execution_count": 8,
   "id": "521a0aff",
   "metadata": {},
   "outputs": [],
   "source": [
    "for station_id in stationid_set:\n",
    "    train_X = main_df[main_df['station_id'] == station_id]\n",
    "    train_lag = train_X[train_X['date'] < '2014-06-01']\n",
    "    train_lag = train_lag[train_lag['date'] >= '2014-05-01']['bikes_available']\n",
    "    train_learn = train_X[train_X['date'] < '2014-06-01']\n",
    "    train_learn = train_learn[train_learn['date'] >= '2014-05-02']\n",
    "    \n",
    "    i = 1\n",
    "    while i < 25:\n",
    "        row_name = \"lag_\" + str(i) + \"hour\"\n",
    "        set = train_lag[24-i:744-i]\n",
    "        train_learn[row_name] = set.values\n",
    "        i += 1\n",
    "    i = 0    \n",
    "    \n",
    "    train_learn_y = train_learn[\"bikes_available\"]\n",
    "    train_learn_x = train_learn.drop(\"station_id\",axis=1)\n",
    "    train_learn_x = train_learn_x.drop(\"date\",axis=1)\n",
    "    train_learn_x = train_learn_x.drop(\"bikes_available\",axis=1)    \n",
    "\n",
    "\n",
    "    reg_mod = xgb.XGBRegressor(objective='reg:squarederror',\n",
    "        n_estimators=300,\n",
    "        learning_rate=0.10,\n",
    "        subsample=0.5,\n",
    "        colsample_bytree=1, \n",
    "        max_depth=15,\n",
    "    )\n",
    "    reg_mod.fit(train_learn_x, train_learn_y) \n",
    "    predictions = reg_mod.predict(train_learn_x)\n",
    "    train_learn['predict_24'] = predictions\n",
    "    train_file_name = \"xgb_24_predict/xgb_train_stationid\" + str(station_id) + \"_201405.csv\" \n",
    "    train_learn.to_csv(train_file_name)\n",
    "    \n",
    "    test_lag = main_df[main_df['station_id'] == station_id][main_df['date'] < '2014-06-01']\n",
    "    test_lag = test_lag[test_lag['date'] >= '2014-05-31']['bikes_available']     \n",
    "    test = main_df[main_df['station_id'] == station_id][main_df['date'] < '2014-06-08']\n",
    "    test = test[test['date'] >= '2014-06-01']\n",
    "    test_y = test[\"bikes_available\"]\n",
    "    test_x = test.drop(\"station_id\",axis=1)\n",
    "    test_x = test_x.drop(\"date\",axis=1)\n",
    "    test_x = test_x.drop(\"bikes_available\",axis=1)    \n",
    "\n",
    "    pred_lightgbm_test = []\n",
    "    len(pred_lightgbm_test)\n",
    "    i=0\n",
    "    while i < 168:\n",
    "        test_x_line = test_x[i:i+1]\n",
    "\n",
    "        lag = []\n",
    "        for j in pred_lightgbm_test:\n",
    "            lag.insert(0, j)\n",
    "\n",
    "        for k in range(24 - len(pred_lightgbm_test)):\n",
    "            lag.append(test_lag[23-k:24-k].values)\n",
    "        s = 1\n",
    "        while s < 25:\n",
    "            row_name = \"lag_\" + str(s) + \"hour\"\n",
    "            test_x_line[row_name] = lag[s-1]\n",
    "            s += 1\n",
    "\n",
    "        pred_lightgbm_test_lag_line = reg_mod.predict(test_x_line)\n",
    "        pred_lightgbm_test =np.append(pred_lightgbm_test, pred_lightgbm_test_lag_line)\n",
    "        i += 1\n",
    "\n",
    "    test['predict_24'] = pred_lightgbm_test\n",
    "    test_file_name = \"xgb_24_predict/xgb_test_stationid\" + str(station_id) + \"_201405.csv\" \n",
    "    test.to_csv(test_file_name)"
   ]
  },
  {
   "cell_type": "code",
   "execution_count": 9,
   "id": "a2d9665f",
   "metadata": {},
   "outputs": [
    {
     "name": "stdout",
     "output_type": "stream",
     "text": [
      "[0]\ttrain-rmse:9.23836\tvalid-rmse:8.92685\n",
      "[50]\ttrain-rmse:0.14937\tvalid-rmse:1.43939\n",
      "[100]\ttrain-rmse:0.03177\tvalid-rmse:1.44173\n",
      "[150]\ttrain-rmse:0.00882\tvalid-rmse:1.45580\n",
      "[200]\ttrain-rmse:0.00286\tvalid-rmse:1.45704\n",
      "[250]\ttrain-rmse:0.00189\tvalid-rmse:1.45729\n",
      "[299]\ttrain-rmse:0.00189\tvalid-rmse:1.45729\n",
      "elapsed_time:0.3070685863494873[sec]\n"
     ]
    },
    {
     "data": {
      "image/png": "[encoded data removed]",
      "text/plain": [
       "<Figure size 432x288 with 1 Axes>"
      ]
     },
     "metadata": {
      "needs_background": "light"
     },
     "output_type": "display_data"
    }
   ],
   "source": [
    "stationid_set =[0]\n",
    "start = time.time()\n",
    "for station_id in stationid_set:\n",
    "    train_X = main_df[main_df['station_id'] == station_id]\n",
    "    train_lag = train_X[train_X['date'] < '2013-10-01']['bikes_available']\n",
    "    train_learn = train_X[train_X['date'] < '2013-10-01']\n",
    "    train_learn = train_learn[train_learn['date'] >= '2013-09-02']\n",
    "    \n",
    "    i = 1\n",
    "    while i < 25:\n",
    "        row_name = \"lag_\" + str(i) + \"hour\"\n",
    "        set = train_lag[24-i:720-i]\n",
    "        train_learn[row_name] = set.values\n",
    "        i += 1\n",
    "    i = 0    \n",
    "    \n",
    "    train_learn_y = train_learn[\"bikes_available\"][train_learn['date'] < '2013-09-28']\n",
    "    train_learn_x = train_learn[train_learn['date'] < '2013-09-28'].drop(\"station_id\",axis=1)\n",
    "    train_learn_x = train_learn_x.drop(\"date\",axis=1)\n",
    "    train_learn_x = train_learn_x.drop(\"bikes_available\",axis=1)    \n",
    "    \n",
    "    test_y = train_learn[\"bikes_available\"][train_learn['date'] >= '2013-09-28']\n",
    "    test_x = train_learn[train_learn['date'] >= '2013-09-28'].drop(\"station_id\",axis=1)\n",
    "    test_x = test_x.drop(\"date\",axis=1)\n",
    "    test_x = test_x.drop(\"bikes_available\",axis=1)     \n",
    "    \n",
    "    \n",
    "    dtrain = xgb.DMatrix(train_learn_x, label=train_learn_y)\n",
    "    dvalid = xgb.DMatrix(test_x, test_y)\n",
    "    params = {\n",
    "        \"objective\" : \"reg:squarederror\",\n",
    "        \"eval_metric\" : \"rmse\"\n",
    "    }    \n",
    "    \n",
    "    dtrain = xgb.DMatrix(train_learn_x, train_learn_y)\n",
    "    results_dict = {}\n",
    "    model = xgb.train(\n",
    "        params = params,\n",
    "        dtrain =  dtrain,\n",
    "        evals = [(dtrain, \"train\"), (dvalid, \"valid\")],\n",
    "        num_boost_round = 300,\n",
    "        verbose_eval=50,\n",
    "        evals_result = results_dict\n",
    "    )\n",
    "    elapsed_time = time.time() - start\n",
    "    print (\"elapsed_time:{0}\".format(elapsed_time) + \"[sec]\")\n",
    "    plt.plot(results_dict[\"train\"][\"rmse\"], color = \"red\", label = \"train\")\n",
    "    plt.plot(results_dict[\"valid\"][\"rmse\"], color = \"blue\", label = \"valid\")\n",
    "    plt.legend()\n",
    "    plt.show()"
   ]
  },
  {
   "cell_type": "code",
   "execution_count": 12,
   "id": "8e88dfc9",
   "metadata": {},
   "outputs": [
    {
     "name": "stdout",
     "output_type": "stream",
     "text": [
      "[0]\ttrain-rmse:9.33867\n",
      "[50]\ttrain-rmse:0.30119\n",
      "[100]\ttrain-rmse:0.11577\n",
      "[150]\ttrain-rmse:0.05795\n",
      "[200]\ttrain-rmse:0.03102\n",
      "[250]\ttrain-rmse:0.01712\n",
      "[299]\ttrain-rmse:0.01030\n"
     ]
    },
    {
     "data": {
      "image/png": "[encoded data removed]",
      "text/plain": [
       "<Figure size 432x288 with 1 Axes>"
      ]
     },
     "metadata": {
      "needs_background": "light"
     },
     "output_type": "display_data"
    },
    {
     "name": "stdout",
     "output_type": "stream",
     "text": [
      "elapsed_time:0.414093017578125[sec]\n",
      "[0]\ttrain-rmse:8.22740\n",
      "[50]\ttrain-rmse:0.10080\n",
      "[100]\ttrain-rmse:0.03338\n",
      "[150]\ttrain-rmse:0.01550\n",
      "[200]\ttrain-rmse:0.00819\n",
      "[250]\ttrain-rmse:0.00819\n",
      "[299]\ttrain-rmse:0.00819\n"
     ]
    },
    {
     "data": {
      "image/png": "[encoded data removed]",
      "text/plain": [
       "<Figure size 432x288 with 1 Axes>"
      ]
     },
     "metadata": {
      "needs_background": "light"
     },
     "output_type": "display_data"
    },
    {
     "name": "stdout",
     "output_type": "stream",
     "text": [
      "elapsed_time:0.3310739994049072[sec]\n",
      "[0]\ttrain-rmse:4.89591\n",
      "[50]\ttrain-rmse:0.35790\n",
      "[100]\ttrain-rmse:0.14817\n",
      "[150]\ttrain-rmse:0.06574\n",
      "[200]\ttrain-rmse:0.03249\n",
      "[250]\ttrain-rmse:0.01594\n",
      "[299]\ttrain-rmse:0.00961\n"
     ]
    },
    {
     "data": {
      "image/png": "[encoded data removed]",
      "text/plain": [
       "<Figure size 432x288 with 1 Axes>"
      ]
     },
     "metadata": {
      "needs_background": "light"
     },
     "output_type": "display_data"
    },
    {
     "name": "stdout",
     "output_type": "stream",
     "text": [
      "elapsed_time:0.3900883197784424[sec]\n",
      "[0]\ttrain-rmse:5.63293\n",
      "[50]\ttrain-rmse:0.36041\n",
      "[100]\ttrain-rmse:0.13476\n",
      "[150]\ttrain-rmse:0.05994\n",
      "[200]\ttrain-rmse:0.03159\n",
      "[250]\ttrain-rmse:0.01603\n",
      "[299]\ttrain-rmse:0.01238\n"
     ]
    },
    {
     "data": {
      "image/png": "[encoded data removed]",
      "text/plain": [
       "<Figure size 432x288 with 1 Axes>"
      ]
     },
     "metadata": {
      "needs_background": "light"
     },
     "output_type": "display_data"
    },
    {
     "name": "stdout",
     "output_type": "stream",
     "text": [
      "elapsed_time:0.3920872211456299[sec]\n",
      "[0]\ttrain-rmse:7.19664\n",
      "[50]\ttrain-rmse:0.44625\n",
      "[100]\ttrain-rmse:0.18519\n",
      "[150]\ttrain-rmse:0.08328\n",
      "[200]\ttrain-rmse:0.04307\n",
      "[250]\ttrain-rmse:0.02202\n",
      "[299]\ttrain-rmse:0.01233\n"
     ]
    },
    {
     "data": {
      "image/png": "[encoded data removed]",
      "text/plain": [
       "<Figure size 432x288 with 1 Axes>"
      ]
     },
     "metadata": {
      "needs_background": "light"
     },
     "output_type": "display_data"
    },
    {
     "name": "stdout",
     "output_type": "stream",
     "text": [
      "elapsed_time:0.42009472846984863[sec]\n",
      "[0]\ttrain-rmse:5.59501\n",
      "[50]\ttrain-rmse:0.37948\n",
      "[100]\ttrain-rmse:0.13873\n",
      "[150]\ttrain-rmse:0.06010\n",
      "[200]\ttrain-rmse:0.02952\n",
      "[250]\ttrain-rmse:0.01527\n",
      "[299]\ttrain-rmse:0.01280\n"
     ]
    },
    {
     "data": {
      "image/png": "[encoded data removed]",
      "text/plain": [
       "<Figure size 432x288 with 1 Axes>"
      ]
     },
     "metadata": {
      "needs_background": "light"
     },
     "output_type": "display_data"
    },
    {
     "name": "stdout",
     "output_type": "stream",
     "text": [
      "elapsed_time:0.40809106826782227[sec]\n",
      "[0]\ttrain-rmse:6.80206\n",
      "[50]\ttrain-rmse:0.40650\n",
      "[100]\ttrain-rmse:0.16411\n",
      "[150]\ttrain-rmse:0.07888\n",
      "[200]\ttrain-rmse:0.03938\n",
      "[250]\ttrain-rmse:0.02033\n",
      "[299]\ttrain-rmse:0.01056\n"
     ]
    },
    {
     "data": {
      "image/png": "[encoded data removed]",
      "text/plain": [
       "<Figure size 432x288 with 1 Axes>"
      ]
     },
     "metadata": {
      "needs_background": "light"
     },
     "output_type": "display_data"
    },
    {
     "name": "stdout",
     "output_type": "stream",
     "text": [
      "elapsed_time:0.40909242630004883[sec]\n",
      "[0]\ttrain-rmse:8.46528\n",
      "[50]\ttrain-rmse:0.53564\n",
      "[100]\ttrain-rmse:0.23204\n",
      "[150]\ttrain-rmse:0.10965\n",
      "[200]\ttrain-rmse:0.05964\n",
      "[250]\ttrain-rmse:0.03308\n",
      "[299]\ttrain-rmse:0.01936\n"
     ]
    },
    {
     "data": {
      "image/png": "[encoded data removed]",
      "text/plain": [
       "<Figure size 432x288 with 1 Axes>"
      ]
     },
     "metadata": {
      "needs_background": "light"
     },
     "output_type": "display_data"
    },
    {
     "name": "stdout",
     "output_type": "stream",
     "text": [
      "elapsed_time:0.438098669052124[sec]\n",
      "[0]\ttrain-rmse:7.91691\n",
      "[50]\ttrain-rmse:0.41344\n",
      "[100]\ttrain-rmse:0.15952\n",
      "[150]\ttrain-rmse:0.07215\n",
      "[200]\ttrain-rmse:0.03795\n",
      "[250]\ttrain-rmse:0.01988\n",
      "[299]\ttrain-rmse:0.01135\n"
     ]
    },
    {
     "data": {
      "image/png": "[encoded data removed]",
      "text/plain": [
       "<Figure size 432x288 with 1 Axes>"
      ]
     },
     "metadata": {
      "needs_background": "light"
     },
     "output_type": "display_data"
    },
    {
     "name": "stdout",
     "output_type": "stream",
     "text": [
      "elapsed_time:0.48210787773132324[sec]\n",
      "[0]\ttrain-rmse:6.77909\n",
      "[50]\ttrain-rmse:0.30887\n",
      "[100]\ttrain-rmse:0.11658\n",
      "[150]\ttrain-rmse:0.05420\n",
      "[200]\ttrain-rmse:0.02592\n",
      "[250]\ttrain-rmse:0.01180\n",
      "[299]\ttrain-rmse:0.00927\n"
     ]
    },
    {
     "data": {
      "image/png": "[encoded data removed]",
      "text/plain": [
       "<Figure size 432x288 with 1 Axes>"
      ]
     },
     "metadata": {
      "needs_background": "light"
     },
     "output_type": "display_data"
    },
    {
     "name": "stdout",
     "output_type": "stream",
     "text": [
      "elapsed_time:0.3940894603729248[sec]\n"
     ]
    }
   ],
   "source": [
    "for station_id in stationid_set:\n",
    "    start = time.time()\n",
    "    train_X = main_df[main_df['station_id'] == station_id]\n",
    "    train_learn = train_X[train_X['date'] < '2013-10-01']\n",
    "    train_learn = train_learn[train_learn['date'] >= '2013-09-02']\n",
    "    train_learn_y = train_learn[\"bikes_available\"]\n",
    "    train_learn_x = train_learn.drop(\"station_id\",axis=1)\n",
    "    train_learn_x = train_learn_x.drop(\"date\",axis=1)\n",
    "    train_learn_x = train_learn_x.drop(\"bikes_available\",axis=1)    \n",
    "\n",
    "    dtrain = xgb.DMatrix(train_learn_x, label=train_learn_y)\n",
    "    params = {\n",
    "        \"objective\" : \"reg:squarederror\",\n",
    "        \"eval_metric\" : \"rmse\"\n",
    "    }        \n",
    "    dtrain = xgb.DMatrix(train_learn_x, train_learn_y)\n",
    "    results_dict = {}\n",
    "    model = xgb.train(\n",
    "        params = params,\n",
    "        dtrain =  dtrain,\n",
    "        evals = [(dtrain, \"train\"), (dtrain, \"train\")],\n",
    "        num_boost_round = 300,\n",
    "        verbose_eval=50,\n",
    "        evals_result = results_dict\n",
    "    )\n",
    "    plt.plot(results_dict[\"train\"][\"rmse\"], color = \"red\", label = \"train\")\n",
    "    plt.legend()\n",
    "    plt.show()\n",
    "    \n",
    "    predictions = model.predict(xgb.DMatrix(train_learn_x))\n",
    "    train_learn['predict_24'] = predictions\n",
    "    train_file_name = \"xgb_24_predict/nomal/xgb_train_stationid\" + str(station_id) + \"_201309.csv\" \n",
    "    train_learn.to_csv(train_file_name)\n",
    "      \n",
    "    test = main_df[main_df['station_id'] == station_id][main_df['date'] < '2013-10-08']\n",
    "    test = test[test['date'] >= '2013-10-01']\n",
    "    test_y = test[\"bikes_available\"]\n",
    "    test_x = test.drop(\"station_id\",axis=1)\n",
    "    test_x = test_x.drop(\"date\",axis=1)\n",
    "    test_x = test_x.drop(\"bikes_available\",axis=1)    \n",
    "    \n",
    "    pred_lightgbm_test = model.predict(xgb.DMatrix(test_x))\n",
    "    test['predict_24'] = pred_lightgbm_test\n",
    "    test_file_name = \"xgb_24_predict/nomal/xgb_test_stationid\" + str(station_id) + \"_201309.csv\" \n",
    "    test.to_csv(test_file_name)\n",
    "    elapsed_time = time.time() - start\n",
    "    print (\"elapsed_time:{0}\".format(elapsed_time) + \"[sec]\")"
   ]
  },
  {
   "cell_type": "code",
   "execution_count": 13,
   "id": "609b15cb",
   "metadata": {},
   "outputs": [
    {
     "name": "stdout",
     "output_type": "stream",
     "text": [
      "[0]\ttrain-rmse:9.53319\n",
      "[50]\ttrain-rmse:0.31960\n",
      "[100]\ttrain-rmse:0.14250\n",
      "[150]\ttrain-rmse:0.07535\n",
      "[200]\ttrain-rmse:0.04085\n",
      "[250]\ttrain-rmse:0.02190\n",
      "[299]\ttrain-rmse:0.01331\n",
      "[0]\ttrain-rmse:9.63221\n",
      "[50]\ttrain-rmse:0.07797\n",
      "[100]\ttrain-rmse:0.02079\n",
      "[150]\ttrain-rmse:0.00852\n",
      "[200]\ttrain-rmse:0.00742\n",
      "[250]\ttrain-rmse:0.00742\n",
      "[299]\ttrain-rmse:0.00742\n",
      "[0]\ttrain-rmse:5.42178\n",
      "[50]\ttrain-rmse:0.33375\n",
      "[100]\ttrain-rmse:0.14614\n",
      "[150]\ttrain-rmse:0.06907\n",
      "[200]\ttrain-rmse:0.03471\n",
      "[250]\ttrain-rmse:0.01987\n",
      "[299]\ttrain-rmse:0.01288\n",
      "[0]\ttrain-rmse:6.01459\n",
      "[50]\ttrain-rmse:0.32872\n",
      "[100]\ttrain-rmse:0.12719\n",
      "[150]\ttrain-rmse:0.06508\n",
      "[200]\ttrain-rmse:0.03459\n",
      "[250]\ttrain-rmse:0.01847\n",
      "[299]\ttrain-rmse:0.01172\n",
      "[0]\ttrain-rmse:6.73494\n",
      "[50]\ttrain-rmse:0.41653\n",
      "[100]\ttrain-rmse:0.19359\n",
      "[150]\ttrain-rmse:0.09529\n",
      "[200]\ttrain-rmse:0.04902\n",
      "[250]\ttrain-rmse:0.02857\n",
      "[299]\ttrain-rmse:0.01611\n",
      "[0]\ttrain-rmse:6.77320\n",
      "[50]\ttrain-rmse:0.42456\n",
      "[100]\ttrain-rmse:0.18255\n",
      "[150]\ttrain-rmse:0.09249\n",
      "[200]\ttrain-rmse:0.05055\n",
      "[250]\ttrain-rmse:0.02753\n",
      "[299]\ttrain-rmse:0.01529\n",
      "[0]\ttrain-rmse:8.19162\n",
      "[50]\ttrain-rmse:0.42055\n",
      "[100]\ttrain-rmse:0.16800\n",
      "[150]\ttrain-rmse:0.07395\n",
      "[200]\ttrain-rmse:0.03674\n",
      "[250]\ttrain-rmse:0.01850\n",
      "[299]\ttrain-rmse:0.00989\n",
      "[0]\ttrain-rmse:8.59877\n",
      "[50]\ttrain-rmse:0.49801\n",
      "[100]\ttrain-rmse:0.21455\n",
      "[150]\ttrain-rmse:0.11620\n",
      "[200]\ttrain-rmse:0.06558\n",
      "[250]\ttrain-rmse:0.03936\n",
      "[299]\ttrain-rmse:0.02401\n",
      "[0]\ttrain-rmse:6.67917\n",
      "[50]\ttrain-rmse:0.48208\n",
      "[100]\ttrain-rmse:0.20137\n",
      "[150]\ttrain-rmse:0.08675\n",
      "[200]\ttrain-rmse:0.04646\n",
      "[250]\ttrain-rmse:0.02658\n",
      "[299]\ttrain-rmse:0.01397\n",
      "[0]\ttrain-rmse:7.02822\n",
      "[50]\ttrain-rmse:0.39859\n",
      "[100]\ttrain-rmse:0.15203\n",
      "[150]\ttrain-rmse:0.07534\n",
      "[200]\ttrain-rmse:0.03736\n",
      "[250]\ttrain-rmse:0.02046\n",
      "[299]\ttrain-rmse:0.01193\n"
     ]
    }
   ],
   "source": [
    "for station_id in stationid_set:\n",
    "    train_X = main_df[main_df['station_id'] == station_id]\n",
    "    train_learn = train_X[train_X['date'] < '2014-02-01']\n",
    "    train_learn = train_learn[train_learn['date'] >= '2014-01-02']\n",
    "    train_learn_y = train_learn[\"bikes_available\"]\n",
    "    train_learn_x = train_learn.drop(\"station_id\",axis=1)\n",
    "    train_learn_x = train_learn_x.drop(\"date\",axis=1)\n",
    "    train_learn_x = train_learn_x.drop(\"bikes_available\",axis=1)    \n",
    "\n",
    "    dtrain = xgb.DMatrix(train_learn_x, label=train_learn_y)\n",
    "    params = {\n",
    "        \"objective\" : \"reg:squarederror\",\n",
    "        \"eval_metric\" : \"rmse\"\n",
    "    }        \n",
    "    dtrain = xgb.DMatrix(train_learn_x, train_learn_y)\n",
    "    results_dict = {}\n",
    "    model = xgb.train(\n",
    "        params = params,\n",
    "        dtrain =  dtrain,\n",
    "        evals = [(dtrain, \"train\"), (dtrain, \"train\")],\n",
    "        num_boost_round = 300,\n",
    "        verbose_eval=50,\n",
    "        evals_result = results_dict\n",
    "    )\n",
    "    predictions = model.predict(xgb.DMatrix(train_learn_x))\n",
    "    train_learn['predict_24'] = predictions\n",
    "    train_file_name = \"xgb_24_predict/nomal/xgb_train_stationid\" + str(station_id) + \"_201401.csv\" \n",
    "    train_learn.to_csv(train_file_name)\n",
    "    \n",
    "    test = main_df[main_df['station_id'] == station_id][main_df['date'] < '2014-02-08']\n",
    "    test = test[test['date'] >= '2014-02-01']\n",
    "    test_y = test[\"bikes_available\"]\n",
    "    test_x = test.drop(\"station_id\",axis=1)\n",
    "    test_x = test_x.drop(\"date\",axis=1)\n",
    "    test_x = test_x.drop(\"bikes_available\",axis=1)    \n",
    "\n",
    "    pred_lightgbm_test = model.predict(xgb.DMatrix(test_x))\n",
    "    test['predict_24'] = pred_lightgbm_test\n",
    "    test_file_name = \"xgb_24_predict/nomal/xgb_test_stationid\" + str(station_id) + \"_201401.csv\" \n",
    "    test.to_csv(test_file_name)"
   ]
  },
  {
   "cell_type": "code",
   "execution_count": 14,
   "id": "b66cabd0",
   "metadata": {},
   "outputs": [
    {
     "name": "stdout",
     "output_type": "stream",
     "text": [
      "[0]\ttrain-rmse:9.43522\n",
      "[50]\ttrain-rmse:0.38637\n",
      "[100]\ttrain-rmse:0.17145\n",
      "[150]\ttrain-rmse:0.08100\n",
      "[200]\ttrain-rmse:0.04312\n",
      "[250]\ttrain-rmse:0.02283\n",
      "[299]\ttrain-rmse:0.01367\n",
      "[0]\ttrain-rmse:9.35455\n",
      "[50]\ttrain-rmse:0.12552\n",
      "[100]\ttrain-rmse:0.05005\n",
      "[150]\ttrain-rmse:0.02309\n",
      "[200]\ttrain-rmse:0.01302\n",
      "[250]\ttrain-rmse:0.01302\n",
      "[299]\ttrain-rmse:0.01302\n",
      "[0]\ttrain-rmse:4.91416\n",
      "[50]\ttrain-rmse:0.29794\n",
      "[100]\ttrain-rmse:0.12881\n",
      "[150]\ttrain-rmse:0.06253\n",
      "[200]\ttrain-rmse:0.03241\n",
      "[250]\ttrain-rmse:0.01589\n",
      "[299]\ttrain-rmse:0.00982\n",
      "[0]\ttrain-rmse:4.88771\n",
      "[50]\ttrain-rmse:0.30427\n",
      "[100]\ttrain-rmse:0.12745\n",
      "[150]\ttrain-rmse:0.05266\n",
      "[200]\ttrain-rmse:0.02559\n",
      "[250]\ttrain-rmse:0.01212\n",
      "[299]\ttrain-rmse:0.00995\n",
      "[0]\ttrain-rmse:5.90085\n",
      "[50]\ttrain-rmse:0.38261\n",
      "[100]\ttrain-rmse:0.15448\n",
      "[150]\ttrain-rmse:0.07598\n",
      "[200]\ttrain-rmse:0.03950\n",
      "[250]\ttrain-rmse:0.02314\n",
      "[299]\ttrain-rmse:0.01204\n",
      "[0]\ttrain-rmse:5.79871\n",
      "[50]\ttrain-rmse:0.43538\n",
      "[100]\ttrain-rmse:0.17184\n",
      "[150]\ttrain-rmse:0.08731\n",
      "[200]\ttrain-rmse:0.04815\n",
      "[250]\ttrain-rmse:0.02755\n",
      "[299]\ttrain-rmse:0.01731\n",
      "[0]\ttrain-rmse:7.44206\n",
      "[50]\ttrain-rmse:0.44602\n",
      "[100]\ttrain-rmse:0.17610\n",
      "[150]\ttrain-rmse:0.08021\n",
      "[200]\ttrain-rmse:0.04144\n",
      "[250]\ttrain-rmse:0.02368\n",
      "[299]\ttrain-rmse:0.01318\n",
      "[0]\ttrain-rmse:9.89649\n",
      "[50]\ttrain-rmse:0.66446\n",
      "[100]\ttrain-rmse:0.27026\n",
      "[150]\ttrain-rmse:0.14320\n",
      "[200]\ttrain-rmse:0.07989\n",
      "[250]\ttrain-rmse:0.04270\n",
      "[299]\ttrain-rmse:0.02601\n",
      "[0]\ttrain-rmse:8.14007\n",
      "[50]\ttrain-rmse:0.48897\n",
      "[100]\ttrain-rmse:0.19283\n",
      "[150]\ttrain-rmse:0.09799\n",
      "[200]\ttrain-rmse:0.05161\n",
      "[250]\ttrain-rmse:0.03003\n",
      "[299]\ttrain-rmse:0.01617\n",
      "[0]\ttrain-rmse:6.48639\n",
      "[50]\ttrain-rmse:0.41719\n",
      "[100]\ttrain-rmse:0.18243\n",
      "[150]\ttrain-rmse:0.08715\n",
      "[200]\ttrain-rmse:0.04484\n",
      "[250]\ttrain-rmse:0.02363\n",
      "[299]\ttrain-rmse:0.01290\n",
      "3.0396835803985596\n"
     ]
    }
   ],
   "source": [
    "start = time.time()\n",
    "for station_id in stationid_set:\n",
    "    train_X = main_df[main_df['station_id'] == station_id]\n",
    "    train_learn = train_X[train_X['date'] < '2014-06-01']\n",
    "    train_learn = train_learn[train_learn['date'] >= '2014-05-02']\n",
    "    train_learn_y = train_learn[\"bikes_available\"]\n",
    "    train_learn_x = train_learn.drop(\"station_id\",axis=1)\n",
    "    train_learn_x = train_learn_x.drop(\"date\",axis=1)\n",
    "    train_learn_x = train_learn_x.drop(\"bikes_available\",axis=1)    \n",
    "\n",
    "    dtrain = xgb.DMatrix(train_learn_x, label=train_learn_y)\n",
    "    params = {\n",
    "        \"objective\" : \"reg:squarederror\",\n",
    "        \"eval_metric\" : \"rmse\"\n",
    "    }        \n",
    "    dtrain = xgb.DMatrix(train_learn_x, train_learn_y)\n",
    "    results_dict = {}\n",
    "    model = xgb.train(\n",
    "        params = params,\n",
    "        dtrain =  dtrain,\n",
    "        evals = [(dtrain, \"train\"), (dtrain, \"train\")],\n",
    "        num_boost_round = 300,\n",
    "        verbose_eval=50,\n",
    "        evals_result = results_dict\n",
    "    )\n",
    "    predictions = model.predict(xgb.DMatrix(train_learn_x))\n",
    "    train_learn['predict_24'] = predictions\n",
    "    train_file_name = \"xgb_24_predict/nomal/xgb_train_stationid\" + str(station_id) + \"_201405.csv\" \n",
    "    train_learn.to_csv(train_file_name)\n",
    "    \n",
    "    test = main_df[main_df['station_id'] == station_id][main_df['date'] < '2014-06-08']\n",
    "    test = test[test['date'] >= '2014-06-01']\n",
    "    test_y = test[\"bikes_available\"]\n",
    "    test_x = test.drop(\"station_id\",axis=1)\n",
    "    test_x = test_x.drop(\"date\",axis=1)\n",
    "    test_x = test_x.drop(\"bikes_available\",axis=1)    \n",
    "\n",
    "    pred_lightgbm_test = model.predict(xgb.DMatrix(test_x))\n",
    "    test['predict_24'] = pred_lightgbm_test\n",
    "    test_file_name = \"xgb_24_predict/nomal/xgb_test_stationid\" + str(station_id) + \"_201405.csv\" \n",
    "    test.to_csv(test_file_name)\n",
    "elapsed_time = time.time() - start\n",
    "print(elapsed_time)"
   ]
  },
  {
   "cell_type": "code",
   "execution_count": null,
   "id": "0a1bf3c3",
   "metadata": {},
   "outputs": [],
   "source": []
  },
  {
   "cell_type": "code",
   "execution_count": null,
   "id": "000b3b11",
   "metadata": {},
   "outputs": [],
   "source": []
  },
  {
   "cell_type": "code",
   "execution_count": null,
   "id": "b0a5ddaf",
   "metadata": {},
   "outputs": [],
   "source": []
  },
  {
   "cell_type": "code",
   "execution_count": 17,
   "id": "6468de8e",
   "metadata": {},
   "outputs": [
    {
     "name": "stdout",
     "output_type": "stream",
     "text": [
      "[0]\ttrain-rmse:9.33867\n",
      "[50]\ttrain-rmse:0.30119\n",
      "[100]\ttrain-rmse:0.11577\n",
      "[150]\ttrain-rmse:0.05795\n",
      "[200]\ttrain-rmse:0.03102\n",
      "[250]\ttrain-rmse:0.01712\n",
      "[299]\ttrain-rmse:0.01030\n"
     ]
    },
    {
     "data": {
      "image/png": "[encoded data removed]",
      "text/plain": [
       "<Figure size 432x288 with 1 Axes>"
      ]
     },
     "metadata": {
      "needs_background": "light"
     },
     "output_type": "display_data"
    },
    {
     "name": "stdout",
     "output_type": "stream",
     "text": [
      "elapsed_time:0.4000885486602783[sec]\n",
      "[0]\ttrain-rmse:8.22740\n",
      "[50]\ttrain-rmse:0.10080\n",
      "[100]\ttrain-rmse:0.03338\n",
      "[150]\ttrain-rmse:0.01550\n",
      "[200]\ttrain-rmse:0.00819\n",
      "[250]\ttrain-rmse:0.00819\n",
      "[299]\ttrain-rmse:0.00819\n"
     ]
    },
    {
     "data": {
      "image/png": "[encoded data removed]",
      "text/plain": [
       "<Figure size 432x288 with 1 Axes>"
      ]
     },
     "metadata": {
      "needs_background": "light"
     },
     "output_type": "display_data"
    },
    {
     "name": "stdout",
     "output_type": "stream",
     "text": [
      "elapsed_time:0.3380753993988037[sec]\n",
      "[0]\ttrain-rmse:4.89591\n",
      "[50]\ttrain-rmse:0.35790\n",
      "[100]\ttrain-rmse:0.14817\n",
      "[150]\ttrain-rmse:0.06574\n",
      "[200]\ttrain-rmse:0.03249\n",
      "[250]\ttrain-rmse:0.01594\n",
      "[299]\ttrain-rmse:0.00961\n"
     ]
    },
    {
     "data": {
      "image/png": "[encoded data removed]",
      "text/plain": [
       "<Figure size 432x288 with 1 Axes>"
      ]
     },
     "metadata": {
      "needs_background": "light"
     },
     "output_type": "display_data"
    },
    {
     "name": "stdout",
     "output_type": "stream",
     "text": [
      "elapsed_time:0.41309237480163574[sec]\n",
      "[0]\ttrain-rmse:5.63293\n",
      "[50]\ttrain-rmse:0.36041\n",
      "[100]\ttrain-rmse:0.13476\n",
      "[150]\ttrain-rmse:0.05994\n",
      "[200]\ttrain-rmse:0.03159\n",
      "[250]\ttrain-rmse:0.01603\n",
      "[299]\ttrain-rmse:0.01238\n"
     ]
    },
    {
     "data": {
      "image/png": "[encoded data removed]",
      "text/plain": [
       "<Figure size 432x288 with 1 Axes>"
      ]
     },
     "metadata": {
      "needs_background": "light"
     },
     "output_type": "display_data"
    },
    {
     "name": "stdout",
     "output_type": "stream",
     "text": [
      "elapsed_time:0.4140925407409668[sec]\n",
      "[0]\ttrain-rmse:7.19664\n",
      "[50]\ttrain-rmse:0.44625\n",
      "[100]\ttrain-rmse:0.18519\n",
      "[150]\ttrain-rmse:0.08328\n",
      "[200]\ttrain-rmse:0.04307\n",
      "[250]\ttrain-rmse:0.02202\n",
      "[299]\ttrain-rmse:0.01233\n"
     ]
    },
    {
     "data": {
      "image/png": "[encoded data removed]",
      "text/plain": [
       "<Figure size 432x288 with 1 Axes>"
      ]
     },
     "metadata": {
      "needs_background": "light"
     },
     "output_type": "display_data"
    },
    {
     "name": "stdout",
     "output_type": "stream",
     "text": [
      "elapsed_time:0.41309237480163574[sec]\n",
      "[0]\ttrain-rmse:5.59501\n",
      "[50]\ttrain-rmse:0.37948\n",
      "[100]\ttrain-rmse:0.13873\n",
      "[150]\ttrain-rmse:0.06010\n",
      "[200]\ttrain-rmse:0.02952\n",
      "[250]\ttrain-rmse:0.01527\n",
      "[299]\ttrain-rmse:0.01280\n"
     ]
    },
    {
     "data": {
      "image/png": "[encoded data removed]",
      "text/plain": [
       "<Figure size 432x288 with 1 Axes>"
      ]
     },
     "metadata": {
      "needs_background": "light"
     },
     "output_type": "display_data"
    },
    {
     "name": "stdout",
     "output_type": "stream",
     "text": [
      "elapsed_time:0.43709778785705566[sec]\n",
      "[0]\ttrain-rmse:6.80206\n",
      "[50]\ttrain-rmse:0.40650\n",
      "[100]\ttrain-rmse:0.16411\n",
      "[150]\ttrain-rmse:0.07888\n",
      "[200]\ttrain-rmse:0.03938\n",
      "[250]\ttrain-rmse:0.02033\n",
      "[299]\ttrain-rmse:0.01056\n"
     ]
    },
    {
     "data": {
      "image/png": "[encoded data removed]",
      "text/plain": [
       "<Figure size 432x288 with 1 Axes>"
      ]
     },
     "metadata": {
      "needs_background": "light"
     },
     "output_type": "display_data"
    },
    {
     "name": "stdout",
     "output_type": "stream",
     "text": [
      "elapsed_time:0.4140925407409668[sec]\n",
      "[0]\ttrain-rmse:8.46528\n",
      "[50]\ttrain-rmse:0.53564\n",
      "[100]\ttrain-rmse:0.23204\n",
      "[150]\ttrain-rmse:0.10965\n",
      "[200]\ttrain-rmse:0.05964\n",
      "[250]\ttrain-rmse:0.03308\n",
      "[299]\ttrain-rmse:0.01936\n"
     ]
    },
    {
     "data": {
      "image/png": "[encoded data removed]",
      "text/plain": [
       "<Figure size 432x288 with 1 Axes>"
      ]
     },
     "metadata": {
      "needs_background": "light"
     },
     "output_type": "display_data"
    },
    {
     "name": "stdout",
     "output_type": "stream",
     "text": [
      "elapsed_time:0.42409491539001465[sec]\n",
      "[0]\ttrain-rmse:7.91691\n",
      "[50]\ttrain-rmse:0.41344\n",
      "[100]\ttrain-rmse:0.15952\n",
      "[150]\ttrain-rmse:0.07215\n",
      "[200]\ttrain-rmse:0.03795\n",
      "[250]\ttrain-rmse:0.01988\n",
      "[299]\ttrain-rmse:0.01135\n"
     ]
    },
    {
     "data": {
      "image/png": "[encoded data removed]",
      "text/plain": [
       "<Figure size 432x288 with 1 Axes>"
      ]
     },
     "metadata": {
      "needs_background": "light"
     },
     "output_type": "display_data"
    },
    {
     "name": "stdout",
     "output_type": "stream",
     "text": [
      "elapsed_time:0.4010891914367676[sec]\n",
      "[0]\ttrain-rmse:6.77909\n",
      "[50]\ttrain-rmse:0.30887\n",
      "[100]\ttrain-rmse:0.11658\n",
      "[150]\ttrain-rmse:0.05420\n",
      "[200]\ttrain-rmse:0.02592\n",
      "[250]\ttrain-rmse:0.01180\n",
      "[299]\ttrain-rmse:0.00927\n"
     ]
    },
    {
     "data": {
      "image/png": "[encoded data removed]",
      "text/plain": [
       "<Figure size 432x288 with 1 Axes>"
      ]
     },
     "metadata": {
      "needs_background": "light"
     },
     "output_type": "display_data"
    },
    {
     "name": "stdout",
     "output_type": "stream",
     "text": [
      "elapsed_time:0.3940877914428711[sec]\n"
     ]
    }
   ],
   "source": [
    "for station_id in stationid_set:\n",
    "    start = time.time()\n",
    "    train_X = main_df[main_df['station_id'] == station_id]\n",
    "    train_learn = train_X[train_X['date'] < '2013-10-01']\n",
    "    train_learn = train_learn[train_learn['date'] >= '2013-09-02']\n",
    "    train_learn_y = train_learn[\"bikes_available\"]\n",
    "    train_learn_x = train_learn.drop(\"station_id\",axis=1)\n",
    "    train_learn_x = train_learn_x.drop(\"date\",axis=1)\n",
    "    train_learn_x = train_learn_x.drop(\"bikes_available\",axis=1)    \n",
    "\n",
    "    dtrain = xgb.DMatrix(train_learn_x, label=train_learn_y)\n",
    "    params = {\n",
    "        \"objective\" : \"reg:squarederror\",\n",
    "        \"eval_metric\" : \"rmse\"\n",
    "    }        \n",
    "    dtrain = xgb.DMatrix(train_learn_x, train_learn_y)\n",
    "    results_dict = {}\n",
    "    model = xgb.train(\n",
    "        params = params,\n",
    "        dtrain =  dtrain,\n",
    "        evals = [(dtrain, \"train\"), (dtrain, \"train\")],\n",
    "        num_boost_round = 300,\n",
    "        verbose_eval=50,\n",
    "        evals_result = results_dict\n",
    "    )\n",
    "    plt.plot(results_dict[\"train\"][\"rmse\"], color = \"red\", label = \"train\")\n",
    "    plt.xlim([0,300])\n",
    "    plt.ylim([0,3.5])\n",
    "    plt.grid()\n",
    "    plt.legend()\n",
    "    plt.show()\n",
    "    \n",
    "    predictions = model.predict(xgb.DMatrix(train_learn_x))\n",
    "    train_learn['predict_24'] = predictions\n",
    "    train_file_name = \"xgb_24_predict/nomal/xgb_train_stationid\" + str(station_id) + \"_201309.csv\" \n",
    "    train_learn.to_csv(train_file_name)\n",
    "      \n",
    "    test = main_df[main_df['station_id'] == station_id][main_df['date'] < '2013-10-08']\n",
    "    test = test[test['date'] >= '2013-10-01']\n",
    "    test_y = test[\"bikes_available\"]\n",
    "    test_x = test.drop(\"station_id\",axis=1)\n",
    "    test_x = test_x.drop(\"date\",axis=1)\n",
    "    test_x = test_x.drop(\"bikes_available\",axis=1)    \n",
    "    \n",
    "    pred_lightgbm_test = model.predict(xgb.DMatrix(test_x))\n",
    "    test['predict_24'] = pred_lightgbm_test\n",
    "    test_file_name = \"xgb_24_predict/nomal/xgb_test_stationid\" + str(station_id) + \"_201309.csv\" \n",
    "    test.to_csv(test_file_name)\n",
    "elapsed_time = time.time() - start\n",
    "print (\"elapsed_time:{0}\".format(elapsed_time) + \"[sec]\")"
   ]
  },
  {
   "cell_type": "code",
   "execution_count": null,
   "id": "7933ab4b",
   "metadata": {},
   "outputs": [],
   "source": []
  },
  {
   "cell_type": "code",
   "execution_count": null,
   "id": "cb17fc8c",
   "metadata": {},
   "outputs": [],
   "source": []
  },
  {
   "cell_type": "code",
   "execution_count": null,
   "id": "67b5bcc1",
   "metadata": {},
   "outputs": [],
   "source": []
  },
  {
   "cell_type": "code",
   "execution_count": 6,
   "id": "3a42943b",
   "metadata": {},
   "outputs": [
    {
     "name": "stdout",
     "output_type": "stream",
     "text": [
      "[0]\ttrain-rmse:9.33867\n",
      "[50]\ttrain-rmse:0.30119\n",
      "[100]\ttrain-rmse:0.11577\n",
      "[150]\ttrain-rmse:0.05795\n",
      "[200]\ttrain-rmse:0.03102\n",
      "[250]\ttrain-rmse:0.01712\n",
      "[299]\ttrain-rmse:0.01030\n",
      "[0]\ttrain-rmse:8.22740\n",
      "[50]\ttrain-rmse:0.10080\n",
      "[100]\ttrain-rmse:0.03338\n",
      "[150]\ttrain-rmse:0.01550\n",
      "[200]\ttrain-rmse:0.00819\n",
      "[250]\ttrain-rmse:0.00819\n",
      "[299]\ttrain-rmse:0.00819\n",
      "[0]\ttrain-rmse:4.89591\n",
      "[50]\ttrain-rmse:0.35790\n",
      "[100]\ttrain-rmse:0.14817\n",
      "[150]\ttrain-rmse:0.06574\n",
      "[200]\ttrain-rmse:0.03249\n",
      "[250]\ttrain-rmse:0.01594\n",
      "[299]\ttrain-rmse:0.00961\n",
      "[0]\ttrain-rmse:5.63293\n",
      "[50]\ttrain-rmse:0.36041\n",
      "[100]\ttrain-rmse:0.13476\n",
      "[150]\ttrain-rmse:0.05994\n",
      "[200]\ttrain-rmse:0.03159\n",
      "[250]\ttrain-rmse:0.01603\n",
      "[299]\ttrain-rmse:0.01238\n",
      "[0]\ttrain-rmse:7.19664\n",
      "[50]\ttrain-rmse:0.44625\n",
      "[100]\ttrain-rmse:0.18519\n",
      "[150]\ttrain-rmse:0.08328\n",
      "[200]\ttrain-rmse:0.04307\n",
      "[250]\ttrain-rmse:0.02202\n",
      "[299]\ttrain-rmse:0.01233\n",
      "[0]\ttrain-rmse:5.59501\n",
      "[50]\ttrain-rmse:0.37948\n",
      "[100]\ttrain-rmse:0.13873\n",
      "[150]\ttrain-rmse:0.06010\n",
      "[200]\ttrain-rmse:0.02952\n",
      "[250]\ttrain-rmse:0.01527\n",
      "[299]\ttrain-rmse:0.01280\n",
      "[0]\ttrain-rmse:6.80206\n",
      "[50]\ttrain-rmse:0.40650\n",
      "[100]\ttrain-rmse:0.16411\n",
      "[150]\ttrain-rmse:0.07888\n",
      "[200]\ttrain-rmse:0.03938\n",
      "[250]\ttrain-rmse:0.02033\n",
      "[299]\ttrain-rmse:0.01056\n",
      "[0]\ttrain-rmse:8.46528\n",
      "[50]\ttrain-rmse:0.53564\n",
      "[100]\ttrain-rmse:0.23204\n",
      "[150]\ttrain-rmse:0.10965\n",
      "[200]\ttrain-rmse:0.05964\n",
      "[250]\ttrain-rmse:0.03308\n",
      "[299]\ttrain-rmse:0.01936\n",
      "[0]\ttrain-rmse:7.91691\n",
      "[50]\ttrain-rmse:0.41344\n",
      "[100]\ttrain-rmse:0.15952\n",
      "[150]\ttrain-rmse:0.07215\n",
      "[200]\ttrain-rmse:0.03795\n",
      "[250]\ttrain-rmse:0.01988\n",
      "[299]\ttrain-rmse:0.01135\n",
      "[0]\ttrain-rmse:6.77909\n",
      "[50]\ttrain-rmse:0.30887\n",
      "[100]\ttrain-rmse:0.11658\n",
      "[150]\ttrain-rmse:0.05420\n",
      "[200]\ttrain-rmse:0.02592\n",
      "[250]\ttrain-rmse:0.01180\n",
      "[299]\ttrain-rmse:0.00927\n",
      "elapsed_time:2.7636191844940186[sec]\n"
     ]
    }
   ],
   "source": [
    "#回帰分析2013年10月時間計測\n",
    "start = time.time()\n",
    "for station_id in stationid_set:\n",
    "    train_X = main_df[main_df['station_id'] == station_id]\n",
    "    train_learn = train_X[train_X['date'] < '2013-10-01']\n",
    "    train_learn = train_learn[train_learn['date'] >= '2013-09-02']\n",
    "    train_learn_y = train_learn[\"bikes_available\"]\n",
    "    train_learn_x = train_learn.drop(\"station_id\",axis=1)\n",
    "    train_learn_x = train_learn_x.drop(\"date\",axis=1)\n",
    "    train_learn_x = train_learn_x.drop(\"bikes_available\",axis=1)    \n",
    "\n",
    "    dtrain = xgb.DMatrix(train_learn_x, label=train_learn_y)\n",
    "    params = {\n",
    "        \"objective\" : \"reg:squarederror\",\n",
    "        \"eval_metric\" : \"rmse\"\n",
    "    }        \n",
    "    dtrain = xgb.DMatrix(train_learn_x, train_learn_y)\n",
    "    results_dict = {}\n",
    "    model = xgb.train(\n",
    "        params = params,\n",
    "        dtrain =  dtrain,\n",
    "        evals = [(dtrain, \"train\"), (dtrain, \"train\")],\n",
    "        num_boost_round = 300,\n",
    "        verbose_eval=50,\n",
    "        evals_result = results_dict\n",
    "    )\n",
    "#     plt.plot(results_dict[\"train\"][\"rmse\"], color = \"red\", label = \"train\")\n",
    "#     plt.xlim([0,300])\n",
    "#     plt.ylim([0,3.5])\n",
    "#     plt.grid()\n",
    "#     plt.legend()\n",
    "#     plt.show()\n",
    "    \n",
    "    predictions = model.predict(xgb.DMatrix(train_learn_x))\n",
    "#     train_learn['predict_24'] = predictions\n",
    "#     train_file_name = \"xgb_24_predict/nomal/xgb_train_stationid\" + str(station_id) + \"_201309.csv\" \n",
    "#     train_learn.to_csv(train_file_name)\n",
    "      \n",
    "    test = main_df[main_df['station_id'] == station_id][main_df['date'] < '2013-10-08']\n",
    "    test = test[test['date'] >= '2013-10-01']\n",
    "    test_y = test[\"bikes_available\"]\n",
    "    test_x = test.drop(\"station_id\",axis=1)\n",
    "    test_x = test_x.drop(\"date\",axis=1)\n",
    "    test_x = test_x.drop(\"bikes_available\",axis=1)    \n",
    "    \n",
    "    pred_lightgbm_test = model.predict(xgb.DMatrix(test_x))\n",
    "#     test['predict_24'] = pred_lightgbm_test\n",
    "#     test_file_name = \"xgb_24_predict/nomal/xgb_test_stationid\" + str(station_id) + \"_201309.csv\" \n",
    "#     test.to_csv(test_file_name)\n",
    "elapsed_time = time.time() - start\n",
    "print (\"elapsed_time:{0}\".format(elapsed_time) + \"[sec]\")"
   ]
  },
  {
   "cell_type": "code",
   "execution_count": 5,
   "id": "091a3ead",
   "metadata": {},
   "outputs": [
    {
     "name": "stdout",
     "output_type": "stream",
     "text": [
      "elapsed_time:20.715531587600708[sec]\n"
     ]
    }
   ],
   "source": [
    "#ラグ変数あり2013年10月時間計測\n",
    "start = time.time()\n",
    "for station_id in stationid_set:\n",
    "    train_X = main_df[main_df['station_id'] == station_id]\n",
    "    train_lag = train_X[train_X['date'] < '2013-10-01']['bikes_available']\n",
    "    train_learn = train_X[train_X['date'] < '2013-10-01']\n",
    "    train_learn = train_learn[train_learn['date'] >= '2013-09-02']\n",
    "    \n",
    "    i = 1\n",
    "    while i < 25:\n",
    "        row_name = \"lag_\" + str(i) + \"hour\"\n",
    "        set = train_lag[24-i:720-i]\n",
    "        train_learn[row_name] = set.values\n",
    "        i += 1\n",
    "    i = 0    \n",
    "    \n",
    "    train_learn_y = train_learn[\"bikes_available\"]\n",
    "    train_learn_x = train_learn.drop(\"station_id\",axis=1)\n",
    "    train_learn_x = train_learn_x.drop(\"date\",axis=1)\n",
    "    train_learn_x = train_learn_x.drop(\"bikes_available\",axis=1)    \n",
    "\n",
    "    reg_mod = xgb.XGBRegressor(objective='reg:squarederror',\n",
    "        n_estimators=300,\n",
    "        learning_rate=0.10,\n",
    "        subsample=0.5,\n",
    "        colsample_bytree=1, \n",
    "        max_depth=15,\n",
    "    )\n",
    "    reg_mod.fit(train_learn_x, train_learn_y) \n",
    "    predictions = reg_mod.predict(train_learn_x)\n",
    "    train_learn['predict_24'] = predictions\n",
    "    train_file_name = \"xgb_24_predict/xgb_train_stationid\" + str(station_id) + \"_201309.csv\" \n",
    "#    train_learn.to_csv(train_file_name)\n",
    "    \n",
    "    test_lag = main_df[main_df['station_id'] == station_id][main_df['date'] < '2013-10-01']\n",
    "    test_lag = test_lag[test_lag['date'] >= '2013-09-30']['bikes_available']     \n",
    "    test = main_df[main_df['station_id'] == station_id][main_df['date'] < '2013-10-08']\n",
    "    test = test[test['date'] >= '2013-10-01']\n",
    "    test_y = test[\"bikes_available\"]\n",
    "    test_x = test.drop(\"station_id\",axis=1)\n",
    "    test_x = test_x.drop(\"date\",axis=1)\n",
    "    test_x = test_x.drop(\"bikes_available\",axis=1)    \n",
    "\n",
    "    pred_lightgbm_test = []\n",
    "    i=0\n",
    "    while i < 168:\n",
    "        test_x_line = test_x[i:i+1]\n",
    "\n",
    "        lag = []\n",
    "        for j in pred_lightgbm_test:\n",
    "            lag.insert(0, j)\n",
    "\n",
    "        for k in range(24 - len(pred_lightgbm_test)):\n",
    "            lag.append(test_lag[23-k:24-k].values)\n",
    "        s = 1\n",
    "        while s < 25:\n",
    "            row_name = \"lag_\" + str(s) + \"hour\"\n",
    "            test_x_line[row_name] = lag[s-1]\n",
    "            s += 1\n",
    "\n",
    "        pred_lightgbm_test_lag_line = reg_mod.predict(test_x_line)\n",
    "        pred_lightgbm_test =np.append(pred_lightgbm_test, pred_lightgbm_test_lag_line)\n",
    "        i += 1\n",
    "\n",
    "    test['predict_24'] = pred_lightgbm_test\n",
    "    test_file_name = \"xgb_24_predict/xgb_test_stationid\" + str(station_id) + \"_201309.csv\" \n",
    "#    test.to_csv(test_file_name)\n",
    "elapsed_time = time.time() - start\n",
    "print (\"elapsed_time:{0}\".format(elapsed_time) + \"[sec]\")"
   ]
  },
  {
   "cell_type": "code",
   "execution_count": null,
   "id": "3fc1fa3e",
   "metadata": {},
   "outputs": [],
   "source": []
  }
 ],
 "metadata": {
  "kernelspec": {
   "display_name": "Python 3",
   "language": "python",
   "name": "python3"
  },
  "language_info": {
   "codemirror_mode": {
    "name": "ipython",
    "version": 3
   },
   "file_extension": ".py",
   "mimetype": "text/x-python",
   "name": "python",
   "nbconvert_exporter": "python",
   "pygments_lexer": "ipython3",
   "version": "3.8.8"
  }
 },
 "nbformat": 4,
 "nbformat_minor": 5
}
